{
 "cells": [
  {
   "cell_type": "markdown",
   "id": "8afb9eec-edf8-453b-a656-ffaead93c000",
   "metadata": {},
   "source": [
    "#  My first program"
   ]
  },
  {
   "cell_type": "markdown",
   "id": "0773d6b1-020d-4161-b358-7df192e2bbb9",
   "metadata": {},
   "source": [
    "# Data Science Tools and Ecosystem"
   ]
  },
  {
   "cell_type": "markdown",
   "id": "a057355a-73aa-4823-a09d-6e4b8ddea46f",
   "metadata": {},
   "source": [
    "In this notebook, Data Science Tools and Ecosystem are summarized."
   ]
  },
  {
   "cell_type": "markdown",
   "id": "6a84082a-91ae-47f2-9a3e-3e033e34e6e4",
   "metadata": {},
   "source": [
    "**Objectives:**\n",
    "\n",
    "- List popular languages for Data Science\n",
    "- List of commonly used libraries used by Data Scientist\n",
    "- Examples of expresions with python"
   ]
  },
  {
   "cell_type": "markdown",
   "id": "79ebc8d8-1260-4797-b80e-0f262f721827",
   "metadata": {},
   "source": [
    "Some of the popular languages that Data Scientists use are:\n",
    "\n",
    "1. Python\n",
    "2. R\n",
    "3. Java\n",
    "4. Scala\n",
    "5. Julia"
   ]
  },
  {
   "cell_type": "markdown",
   "id": "f7f51557-cf5e-4f4d-b511-350b8b656c58",
   "metadata": {},
   "source": [
    "Some of the commonly used libraries used by Data Scientists include:\n",
    "\n",
    "1. Pandas\n",
    "2. Matplotlib\n",
    "3. NumPy\n",
    "4. SciPy\n",
    "    "
   ]
  },
  {
   "cell_type": "markdown",
   "id": "07804d98-c0e3-48e8-98a5-4958b45ebbbb",
   "metadata": {
    "tags": []
   },
   "source": [
    "|Data Science Tools|\n",
    "|---|\n",
    "|Jupyter notebooks|\n",
    "|Jupyter lab|\n",
    "|RStudio|"
   ]
  },
  {
   "cell_type": "markdown",
   "id": "5f3b1808-de62-4ab6-90fc-6576166d879b",
   "metadata": {
    "tags": []
   },
   "source": [
    "### Below are a few examples of evaluating arithmetic expressions in Python"
   ]
  },
  {
   "cell_type": "code",
   "execution_count": 7,
   "id": "4a7b6e7f-1e41-4298-85b8-f423c7167397",
   "metadata": {
    "tags": []
   },
   "outputs": [
    {
     "data": {
      "text/plain": [
       "17"
      ]
     },
     "execution_count": 7,
     "metadata": {},
     "output_type": "execute_result"
    }
   ],
   "source": [
    "#  This a simple arithmetic expression to mutiply then add integers\n",
    "(3*4)+5"
   ]
  },
  {
   "cell_type": "code",
   "execution_count": 8,
   "id": "febba4e8-3295-43cb-88f9-c42ca98fa039",
   "metadata": {
    "tags": []
   },
   "outputs": [
    {
     "data": {
      "text/plain": [
       "3.3333333333333335"
      ]
     },
     "execution_count": 8,
     "metadata": {},
     "output_type": "execute_result"
    }
   ],
   "source": [
    "# This will convert 200 minutes to hours by diving by 60\n",
    "200/60"
   ]
  },
  {
   "cell_type": "markdown",
   "id": "69b599f6-c868-4815-9506-8cc7dcd74f95",
   "metadata": {},
   "source": [
    "## Author \n",
    "Mauricio Izquierdo"
   ]
  },
  {
   "cell_type": "code",
   "execution_count": null,
   "id": "269d146d-edc0-4f90-b2c6-f58ee66854dd",
   "metadata": {},
   "outputs": [],
   "source": []
  }
 ],
 "metadata": {
  "kernelspec": {
   "display_name": "Python 3 (ipykernel)",
   "language": "python",
   "name": "python3"
  },
  "language_info": {
   "codemirror_mode": {
    "name": "ipython",
    "version": 3
   },
   "file_extension": ".py",
   "mimetype": "text/x-python",
   "name": "python",
   "nbconvert_exporter": "python",
   "pygments_lexer": "ipython3",
   "version": "3.11.5"
  }
 },
 "nbformat": 4,
 "nbformat_minor": 5
}
